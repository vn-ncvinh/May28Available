{
  "cells": [
    {
      "cell_type": "markdown",
      "metadata": {
        "id": "view-in-github",
        "colab_type": "text"
      },
      "source": [
        "<a href=\"https://colab.research.google.com/github/vn-ncvinh/May28Available/blob/main/GGDrive.ipynb\" target=\"_parent\"><img src=\"https://colab.research.google.com/assets/colab-badge.svg\" alt=\"Open In Colab\"/></a>"
      ]
    },
    {
      "cell_type": "code",
      "execution_count": null,
      "metadata": {
        "id": "y0ofvTGeamrL"
      },
      "outputs": [],
      "source": [
        "from google.colab import drive\n",
        "drive.mount('/content/drive')"
      ]
    },
    {
      "cell_type": "code",
      "execution_count": null,
      "metadata": {
        "cellView": "form",
        "colab": {
          "background_save": true
        },
        "id": "A0LDAdMzeWvO"
      },
      "outputs": [],
      "source": [
        "#@title Download Other\n",
        "path = \"Oneplus Ace 2V\" #@param [\"Other\", \"Oneplus Ace 2V\", \"Poco X3 Pro\", \"Oneplus 8T\", \"Oneplus 8T/Nameless\", \"Oneplus 8T/EvolutonX\", \"Oneplus 8T/FlamingoOS\"]\n",
        "fullpath = \"/content/drive/MyDrive/\" + path \n",
        "url = \"https://gauss-compotacostauto-cn.allawnfs.com/remove-cd50e8c9e77c220dcff23aa2414b503b/component-ota/23/05/11/36c6173b8b744fb0b5da24891fc8c0b8.zip\" #@param {type:\"string\"}\n",
        "custom_filename = True #@param {type:\"boolean\"}\n",
        "\n",
        "\n",
        "! mkdir \"{fullpath}\" #Create folder if not exist\n",
        "\n",
        "\n",
        "if(custom_filename):\n",
        "  filename = \"PHP110_13.1.0.102.zip\" #@param {type:\"string\"}\n",
        "else:\n",
        "  filename = url.split(\"/\")[-1]\n",
        "fullpath = fullpath + \"/\" + filename\n",
        "! wget \"{url}\" -O \"{fullpath}\""
      ]
    },
    {
      "cell_type": "code",
      "execution_count": null,
      "metadata": {
        "cellView": "form",
        "colab": {
          "background_save": true
        },
        "id": "ckodzu0h-9ZQ"
      },
      "outputs": [],
      "source": [
        "import sys, os, urllib.request\n",
        "import time\n",
        "import subprocess\n",
        "import contextlib\n",
        "from IPython.display import clear_output\n",
        "#@markdown <br><center><img src='https://mega.nz/favicon.ico?v=3' height=\"50\" alt=\"MEGA-logo\"/></center>\n",
        "#@markdown <center><h2>Transfer from Mega to GDrive</h2></center><br>\n",
        "HOME = os.path.expanduser(\"~\")\n",
        "if not os.path.exists(f\"{HOME}/.ipython/ocr.py\"):\n",
        "    hCode = \"https://raw.githubusercontent.com/biplobsd/\" \\\n",
        "                \"OneClickRun/master/res/ocr.py\"\n",
        "    urllib.request.urlretrieve(hCode, f\"{HOME}/.ipython/ocr.py\")\n",
        "\n",
        "from ocr import (\n",
        "    runSh,\n",
        "    loadingAn,\n",
        ")\n",
        "#@title MEGA public link download\n",
        "URL = \"https://mega.nz/folder/9E4zDSAK#qpO_t84aBYReOLaWhSPGww/file/tJ53SabB\" #@param {type:\"string\"}\n",
        "\n",
        "OUTPUT = \"Other\" #@param [\"Other\", \"Oneplus 8T\", \"Oneplus 8T/Nameless\", \"Oneplus 8T/EvolutonX\", \"Oneplus 8T/DerpFest\"]\n",
        "OUTPUT_PATH = \"/content/drive/MyDrive/\" + OUTPUT\n",
        "\n",
        "! mkdir \"{OUTPUT_PATH}\" #Create folder if not exist\n",
        "#@markdown #####_*Sometimes this cell doesn't stop itself after the completion of the transfer. In case of that stop the cell manually._\n",
        "if not OUTPUT_PATH:\n",
        "  os.makedirs(\"downloads\", exist_ok=True)\n",
        "  OUTPUT_PATH = \"downloads\"\n",
        "# MEGAcmd installing\n",
        "if not os.path.exists(\"/usr/bin/mega-cmd\"):\n",
        "    loadingAn()\n",
        "    print(\"Installing MEGA ...\")\n",
        "    runSh('sudo apt-get -y update')\n",
        "    runSh('sudo apt-get -y install libmms0 libc-ares2 libc6 libcrypto++6 libgcc1 libmediainfo0v5 libpcre3 libpcrecpp0v5 libssl1.1 libstdc++6 libzen0v5 zlib1g apt-transport-https')\n",
        "    runSh('sudo curl -sL -o /var/cache/apt/archives/MEGAcmd.deb https://mega.nz/linux/MEGAsync/Debian_9.0/amd64/megacmd-Debian_9.0_amd64.deb', output=True)\n",
        "    runSh('sudo dpkg -i /var/cache/apt/archives/MEGAcmd.deb', output=True)\n",
        "    print(\"MEGA is installed.\")\n",
        "    clear_output()\n",
        "\n",
        "# Unix, Windows and old Macintosh end-of-line\n",
        "newlines = ['\\n', '\\r\\n', '\\r']\n",
        "\n",
        "def unbuffered(proc, stream='stdout'):\n",
        "    stream = getattr(proc, stream)\n",
        "    with contextlib.closing(stream):\n",
        "        while True:\n",
        "            out = []\n",
        "            last = stream.read(1)\n",
        "            # Don't loop forever\n",
        "            if last == '' and proc.poll() is not None:\n",
        "                break\n",
        "            while last not in newlines:\n",
        "                # Don't loop forever\n",
        "                if last == '' and proc.poll() is not None:\n",
        "                    break\n",
        "                out.append(last)\n",
        "                last = stream.read(1)\n",
        "            out = ''.join(out)\n",
        "            yield out\n",
        "\n",
        "\n",
        "def transfare():\n",
        "    import codecs\n",
        "    decoder = codecs.getincrementaldecoder(\"UTF-8\")()\n",
        "    cmd = [\"mega-get\", URL, OUTPUT_PATH]\n",
        "    proc = subprocess.Popen(\n",
        "        cmd,\n",
        "        stdout=subprocess.PIPE,\n",
        "        stderr=subprocess.STDOUT,\n",
        "        # Make all end-of-lines '\\n'\n",
        "        universal_newlines=True,\n",
        "    )\n",
        "    for line in unbuffered(proc):\n",
        "        print(line)\n",
        "        \n",
        "\n",
        "\n",
        "transfare()\n",
        "\n"
      ]
    },
    {
      "cell_type": "code",
      "execution_count": null,
      "metadata": {
        "cellView": "form",
        "id": "2tda8ZzuPKix"
      },
      "outputs": [],
      "source": [
        "#@title DownLoad Oxygen OS Rom\n",
        "import requests\n",
        "method = \"Stable (full)\" #@param [\"Stable (full)\", \"Stable (Incremental)\"]\n",
        "\n",
        "if \"full\" in method:\n",
        "  method_id = 2\n",
        "elif \"Incremental\" in method:\n",
        "  method_id = 1\n",
        "else:\n",
        "  exit()\n",
        "\n",
        "\n",
        "device = \"OnePlus 8T (EU) - KB2003\" #@param [\"OnePlus 8T (EU) - KB2003\", \"OnePlus 8T (India) - KB2001\" , \"OnePlus 8T (Global) - KB2005\"]\n",
        "\n",
        "if \"2003\" in device:\n",
        "  device_id = 40\n",
        "elif \"2001\" in device:\n",
        "  device_id = 41\n",
        "elif \"2005\" in device:\n",
        "  device_id = 41\n",
        "else:\n",
        "  exit()\n",
        "\n",
        "url = 'https://oxygenupdater.com:443/api/v2.6/mostRecentUpdateData/' + str(device_id) + '/' + str(method_id)\n",
        "headers = {\"User-Agent\": \"Oxygen_updater_5.10.1\", \"Accept-Encoding\": \"gzip, deflate\"}\n",
        "print(\"Check update: \" + str(url))\n",
        "res = requests.get(url, headers=headers).json()\n",
        "str_out = 'id: ' + str(res['id']) + '\\nversion_number: ' + res['version_number'] + '\\nota_version_number: ' + res['ota_version_number'] + '\\ndescription: ' + res['description'] + '\\nDownload_url: ' + res['download_url'] + '\\nDownload_size: ' + str(res['download_size']) + '\\nFilename: ' + res['filename'] + '\\nmd5sum: ' + res['md5sum']\n",
        "print(str_out)\n",
        "download = True #@param {type:\"boolean\"}\n",
        "if download:\n",
        "  ! wget \"{res['download_url']}\" -O \"{res['ota_version_number']}.zip\"\n",
        "else:\n",
        "  confirm = str(input(\"Download? y/n: \"))\n",
        "  if confirm.lower() == 'y':\n",
        "    ! wget \"{res['download_url']}\" -O \"/content/drive/MyDrive/Oneplus 8T/{res['ota_version_number']}.zip\""
      ]
    },
    {
      "cell_type": "code",
      "execution_count": null,
      "metadata": {
        "id": "5D3fqlAnZS_p"
      },
      "outputs": [],
      "source": [
        "#@title Mneylink.com Bypass\n",
        "\n",
        "import requests\n",
        "domain = \"https://ae888.fan/\" #@param {type:\"string\"}\n",
        "burp0_url = \"https://mneylink.com:443/load_traffic?&r=https://www.google.com/&w=\" + domain\n",
        "print(burp0_url)\n",
        "burp0_headers = {\"GET /load_traffic?&r=https\": \"/www.google.com/&w=\" + domain + \" HTTP/2\", \"Sec-Ch-Ua\": \"\\\"Not A(Brand\\\";v=\\\"24\\\", \\\"Chromium\\\";v=\\\"110\\\"\", \"Sec-Ch-Ua-Mobile\": \"?0\", \"User-Agent\": \"Mozilla/5.0 (Windows NT 10.0; Win64; x64) AppleWebKit/537.36 (KHTML, like Gecko) Chrome/110.0.5481.78 Safari/537.36\", \"Sec-Ch-Ua-Platform\": \"\\\"Windows\\\"\", \"Accept\": \"*/*\", \"Origin\": domain, \"Sec-Fetch-Site\": \"cross-site\", \"Sec-Fetch-Mode\": \"cors\", \"Sec-Fetch-Dest\": \"empty\", \"Referer\": domain, \"Accept-Encoding\": \"gzip, deflate\", \"Accept-Language\": \"en-US,en;q=0.9\"}\n",
        "print(requests.get(burp0_url, headers=burp0_headers).json())"
      ]
    }
  ],
  "metadata": {
    "colab": {
      "provenance": [],
      "include_colab_link": true
    },
    "kernelspec": {
      "display_name": "Python 3",
      "name": "python3"
    },
    "language_info": {
      "name": "python"
    }
  },
  "nbformat": 4,
  "nbformat_minor": 0
}