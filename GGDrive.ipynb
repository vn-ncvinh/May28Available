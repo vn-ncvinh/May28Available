{
  "cells": [
    {
      "cell_type": "markdown",
      "metadata": {
        "id": "view-in-github",
        "colab_type": "text"
      },
      "source": [
        "<a href=\"https://colab.research.google.com/github/vn-ncvinh/May28Available/blob/main/GGDrive.ipynb\" target=\"_parent\"><img src=\"https://colab.research.google.com/assets/colab-badge.svg\" alt=\"Open In Colab\"/></a>"
      ]
    },
    {
      "cell_type": "code",
      "execution_count": null,
      "metadata": {
        "colab": {
          "base_uri": "https://localhost:8080/"
        },
        "id": "y0ofvTGeamrL",
        "outputId": "290f9e56-87d5-40f6-9970-d76b4b526209"
      },
      "outputs": [
        {
          "name": "stdout",
          "output_type": "stream",
          "text": [
            "Mounted at /content/drive\n"
          ]
        }
      ],
      "source": [
        "from google.colab import drive\n",
        "drive.mount('/content/drive')"
      ]
    },
    {
      "cell_type": "code",
      "execution_count": null,
      "metadata": {
        "cellView": "form",
        "colab": {
          "background_save": true,
          "base_uri": "https://localhost:8080/"
        },
        "id": "A0LDAdMzeWvO",
        "outputId": "871c37c3-6dfc-4c9e-f429-dc86b212fe24"
      },
      "outputs": [
        {
          "name": "stdout",
          "output_type": "stream",
          "text": [
            "mkdir: cannot create directory ‘/content/drive/MyDrive/Oneplus Ace 2V’: File exists\n",
            "--2023-06-03 01:08:42--  https://gauss-compotacostauto-cn.allawnfs.com/remove-cd50e8c9e77c220dcff23aa2414b503b/component-ota/23/05/11/36c6173b8b744fb0b5da24891fc8c0b8.zip\n",
            "Resolving gauss-compotacostauto-cn.allawnfs.com (gauss-compotacostauto-cn.allawnfs.com)... 182.40.45.94, 182.40.45.96, 182.40.45.95, ...\n",
            "Connecting to gauss-compotacostauto-cn.allawnfs.com (gauss-compotacostauto-cn.allawnfs.com)|182.40.45.94|:443... connected.\n",
            "HTTP request sent, awaiting response... 200 OK\n",
            "Length: 7083241124 (6.6G) [application/octet-stream]\n",
            "Saving to: ‘/content/drive/MyDrive/Oneplus Ace 2V/PHP110_13.1.0.102.zip’\n",
            "\n",
            "e 2V/PHP110_13.1.0.  25%[====>               ]   1.70G   497KB/s    eta 2h 52m "
          ]
        }
      ],
      "source": [
        "#@title Download Other\n",
        "path = \"Oneplus Ace 2V\" #@param [\"Other\", \"Oneplus Ace 2V\", \"Poco X3 Pro\", \"Oneplus 8T\", \"Oneplus 8T/Nameless\", \"Oneplus 8T/EvolutonX\", \"Oneplus 8T/FlamingoOS\"]\n",
        "fullpath = \"/content/drive/MyDrive/\" + path \n",
        "url = \"https://gauss-compotacostauto-cn.allawnfs.com/remove-cd50e8c9e77c220dcff23aa2414b503b/component-ota/23/05/11/36c6173b8b744fb0b5da24891fc8c0b8.zip\" #@param {type:\"string\"}\n",
        "custom_filename = True #@param {type:\"boolean\"}\n",
        "\n",
        "\n",
        "! mkdir \"{fullpath}\" #Create folder if not exist\n",
        "\n",
        "\n",
        "if(custom_filename):\n",
        "  filename = \"PHP110_13.1.0.102.zip\" #@param {type:\"string\"}\n",
        "else:\n",
        "  filename = url.split(\"/\")[-1]\n",
        "fullpath = fullpath + \"/\" + filename\n",
        "! wget \"{url}\" -O \"{fullpath}\""
      ]
    },
    {
      "cell_type": "code",
      "execution_count": null,
      "metadata": {
        "cellView": "form",
        "colab": {
          "background_save": true
        },
        "id": "ckodzu0h-9ZQ"
      },
      "outputs": [],
      "source": [
        "import sys, os, urllib.request\n",
        "import time\n",
        "import subprocess\n",
        "import contextlib\n",
        "from IPython.display import clear_output\n",
        "#@markdown <br><center><img src='https://mega.nz/favicon.ico?v=3' height=\"50\" alt=\"MEGA-logo\"/></center>\n",
        "#@markdown <center><h2>Transfer from Mega to GDrive</h2></center><br>\n",
        "HOME = os.path.expanduser(\"~\")\n",
        "if not os.path.exists(f\"{HOME}/.ipython/ocr.py\"):\n",
        "    hCode = \"https://raw.githubusercontent.com/biplobsd/\" \\\n",
        "                \"OneClickRun/master/res/ocr.py\"\n",
        "    urllib.request.urlretrieve(hCode, f\"{HOME}/.ipython/ocr.py\")\n",
        "\n",
        "from ocr import (\n",
        "    runSh,\n",
        "    loadingAn,\n",
        ")\n",
        "#@title MEGA public link download\n",
        "URL = \"https://mega.nz/folder/9E4zDSAK#qpO_t84aBYReOLaWhSPGww/file/tJ53SabB\" #@param {type:\"string\"}\n",
        "\n",
        "OUTPUT = \"Other\" #@param [\"Other\", \"Oneplus 8T\", \"Oneplus 8T/Nameless\", \"Oneplus 8T/EvolutonX\", \"Oneplus 8T/DerpFest\"]\n",
        "OUTPUT_PATH = \"/content/drive/MyDrive/\" + OUTPUT\n",
        "\n",
        "! mkdir \"{OUTPUT_PATH}\" #Create folder if not exist\n",
        "#@markdown #####_*Sometimes this cell doesn't stop itself after the completion of the transfer. In case of that stop the cell manually._\n",
        "if not OUTPUT_PATH:\n",
        "  os.makedirs(\"downloads\", exist_ok=True)\n",
        "  OUTPUT_PATH = \"downloads\"\n",
        "# MEGAcmd installing\n",
        "if not os.path.exists(\"/usr/bin/mega-cmd\"):\n",
        "    loadingAn()\n",
        "    print(\"Installing MEGA ...\")\n",
        "    runSh('sudo apt-get -y update')\n",
        "    runSh('sudo apt-get -y install libmms0 libc-ares2 libc6 libcrypto++6 libgcc1 libmediainfo0v5 libpcre3 libpcrecpp0v5 libssl1.1 libstdc++6 libzen0v5 zlib1g apt-transport-https')\n",
        "    runSh('sudo curl -sL -o /var/cache/apt/archives/MEGAcmd.deb https://mega.nz/linux/MEGAsync/Debian_9.0/amd64/megacmd-Debian_9.0_amd64.deb', output=True)\n",
        "    runSh('sudo dpkg -i /var/cache/apt/archives/MEGAcmd.deb', output=True)\n",
        "    print(\"MEGA is installed.\")\n",
        "    clear_output()\n",
        "\n",
        "# Unix, Windows and old Macintosh end-of-line\n",
        "newlines = ['\\n', '\\r\\n', '\\r']\n",
        "\n",
        "def unbuffered(proc, stream='stdout'):\n",
        "    stream = getattr(proc, stream)\n",
        "    with contextlib.closing(stream):\n",
        "        while True:\n",
        "            out = []\n",
        "            last = stream.read(1)\n",
        "            # Don't loop forever\n",
        "            if last == '' and proc.poll() is not None:\n",
        "                break\n",
        "            while last not in newlines:\n",
        "                # Don't loop forever\n",
        "                if last == '' and proc.poll() is not None:\n",
        "                    break\n",
        "                out.append(last)\n",
        "                last = stream.read(1)\n",
        "            out = ''.join(out)\n",
        "            yield out\n",
        "\n",
        "\n",
        "def transfare():\n",
        "    import codecs\n",
        "    decoder = codecs.getincrementaldecoder(\"UTF-8\")()\n",
        "    cmd = [\"mega-get\", URL, OUTPUT_PATH]\n",
        "    proc = subprocess.Popen(\n",
        "        cmd,\n",
        "        stdout=subprocess.PIPE,\n",
        "        stderr=subprocess.STDOUT,\n",
        "        # Make all end-of-lines '\\n'\n",
        "        universal_newlines=True,\n",
        "    )\n",
        "    for line in unbuffered(proc):\n",
        "        print(line)\n",
        "        \n",
        "\n",
        "\n",
        "transfare()\n",
        "\n"
      ]
    },
    {
      "cell_type": "code",
      "execution_count": null,
      "metadata": {
        "cellView": "form",
        "id": "2tda8ZzuPKix"
      },
      "outputs": [],
      "source": [
        "#@title DownLoad Oxygen OS Rom\n",
        "import requests\n",
        "method = \"Stable (full)\" #@param [\"Stable (full)\", \"Stable (Incremental)\"]\n",
        "\n",
        "if \"full\" in method:\n",
        "  method_id = 2\n",
        "elif \"Incremental\" in method:\n",
        "  method_id = 1\n",
        "else:\n",
        "  exit()\n",
        "\n",
        "\n",
        "device = \"OnePlus 8T (EU) - KB2003\" #@param [\"OnePlus 8T (EU) - KB2003\", \"OnePlus 8T (India) - KB2001\" , \"OnePlus 8T (Global) - KB2005\"]\n",
        "\n",
        "if \"2003\" in device:\n",
        "  device_id = 40\n",
        "elif \"2001\" in device:\n",
        "  device_id = 41\n",
        "elif \"2005\" in device:\n",
        "  device_id = 41\n",
        "else:\n",
        "  exit()\n",
        "\n",
        "url = 'https://oxygenupdater.com:443/api/v2.6/mostRecentUpdateData/' + str(device_id) + '/' + str(method_id)\n",
        "headers = {\"User-Agent\": \"Oxygen_updater_5.10.1\", \"Accept-Encoding\": \"gzip, deflate\"}\n",
        "print(\"Check update: \" + str(url))\n",
        "res = requests.get(url, headers=headers).json()\n",
        "str_out = 'id: ' + str(res['id']) + '\\nversion_number: ' + res['version_number'] + '\\nota_version_number: ' + res['ota_version_number'] + '\\ndescription: ' + res['description'] + '\\nDownload_url: ' + res['download_url'] + '\\nDownload_size: ' + str(res['download_size']) + '\\nFilename: ' + res['filename'] + '\\nmd5sum: ' + res['md5sum']\n",
        "print(str_out)\n",
        "download = True #@param {type:\"boolean\"}\n",
        "if download:\n",
        "  ! wget \"{res['download_url']}\" -O \"{res['ota_version_number']}.zip\"\n",
        "else:\n",
        "  confirm = str(input(\"Download? y/n: \"))\n",
        "  if confirm.lower() == 'y':\n",
        "    ! wget \"{res['download_url']}\" -O \"/content/drive/MyDrive/Oneplus 8T/{res['ota_version_number']}.zip\""
      ]
    },
    {
      "cell_type": "code",
      "execution_count": null,
      "metadata": {
        "colab": {
          "base_uri": "https://localhost:8080/"
        },
        "id": "aHxgmD1waD0f",
        "outputId": "75933190-fab3-4ad1-848b-5839cc05a3f2"
      },
      "outputs": [
        {
          "name": "stdout",
          "output_type": "stream",
          "text": [
            "--2023-05-27 12:24:01--  https://gauss-componentotacostmanual-cn.allawnfs.com/remove-965d7ad463115ddf31b55f9ae117e2a5/component-ota/23/05/24/2035e1c69e0b4522a2237b66ed4ff372.zip\n",
            "Resolving gauss-componentotacostmanual-cn.allawnfs.com (gauss-componentotacostmanual-cn.allawnfs.com)... 182.40.45.97, 182.40.45.96, 182.40.45.98, ...\n",
            "Connecting to gauss-componentotacostmanual-cn.allawnfs.com (gauss-componentotacostmanual-cn.allawnfs.com)|182.40.45.97|:443... connected.\n",
            "^C\n"
          ]
        }
      ],
      "source": [
        "!wget \"https://gauss-componentotacostmanual-cn.allawnfs.com/remove-965d7ad463115ddf31b55f9ae117e2a5/component-ota/23/05/24/2035e1c69e0b4522a2237b66ed4ff372.zip\""
      ]
    },
    {
      "cell_type": "code",
      "execution_count": null,
      "metadata": {
        "colab": {
          "base_uri": "https://localhost:8080/"
        },
        "id": "7gukYtJ8IE9W",
        "outputId": "8ed962ac-40ea-4f07-93b5-3c9f135532f8"
      },
      "outputs": [
        {
          "name": "stdout",
          "output_type": "stream",
          "text": [
            "Looking in indexes: https://pypi.org/simple, https://us-python.pkg.dev/colab-wheels/public/simple/\n",
            "Collecting payload-dumper\n",
            "  Downloading payload_dumper-0.2.2-py3-none-any.whl (10 kB)\n",
            "Collecting bsdiff4<2.0.0,>=1.2.1 (from payload-dumper)\n",
            "  Downloading bsdiff4-1.2.3-cp310-cp310-manylinux_2_17_x86_64.manylinux2014_x86_64.whl (31 kB)\n",
            "Collecting enlighten<2.0.0,>=1.10.2 (from payload-dumper)\n",
            "  Downloading enlighten-1.11.2-py2.py3-none-any.whl (53 kB)\n",
            "\u001b[2K     \u001b[90m━━━━━━━━━━━━━━━━━━━━━━━━━━━━━━━━━━━━━━━━\u001b[0m \u001b[32m53.7/53.7 kB\u001b[0m \u001b[31m6.1 MB/s\u001b[0m eta \u001b[36m0:00:00\u001b[0m\n",
            "\u001b[?25hRequirement already satisfied: protobuf<4.0.0,>=3.19.1 in /usr/local/lib/python3.10/dist-packages (from payload-dumper) (3.20.3)\n",
            "Collecting blessed>=1.17.7 (from enlighten<2.0.0,>=1.10.2->payload-dumper)\n",
            "  Downloading blessed-1.20.0-py2.py3-none-any.whl (58 kB)\n",
            "\u001b[2K     \u001b[90m━━━━━━━━━━━━━━━━━━━━━━━━━━━━━━━━━━━━━━━━\u001b[0m \u001b[32m58.4/58.4 kB\u001b[0m \u001b[31m6.0 MB/s\u001b[0m eta \u001b[36m0:00:00\u001b[0m\n",
            "\u001b[?25hCollecting prefixed>=0.3.2 (from enlighten<2.0.0,>=1.10.2->payload-dumper)\n",
            "  Downloading prefixed-0.7.0-py2.py3-none-any.whl (13 kB)\n",
            "Requirement already satisfied: wcwidth>=0.1.4 in /usr/local/lib/python3.10/dist-packages (from blessed>=1.17.7->enlighten<2.0.0,>=1.10.2->payload-dumper) (0.2.6)\n",
            "Requirement already satisfied: six>=1.9.0 in /usr/local/lib/python3.10/dist-packages (from blessed>=1.17.7->enlighten<2.0.0,>=1.10.2->payload-dumper) (1.16.0)\n",
            "Installing collected packages: prefixed, bsdiff4, blessed, enlighten, payload-dumper\n",
            "Successfully installed blessed-1.20.0 bsdiff4-1.2.3 enlighten-1.11.2 payload-dumper-0.2.2 prefixed-0.7.0\n"
          ]
        }
      ],
      "source": [
        "!pip install payload-dumper"
      ]
    },
    {
      "cell_type": "code",
      "execution_count": null,
      "metadata": {
        "colab": {
          "base_uri": "https://localhost:8080/"
        },
        "id": "ajpBtMERIPoX",
        "outputId": "92659605-c3da-414c-df8a-aa72fe256c0a"
      },
      "outputs": [
        {
          "name": "stdout",
          "output_type": "stream",
          "text": [
            "Archive:  2035e1c69e0b4522a2237b66ed4ff372.zip\n",
            "signed by SignApk\n",
            " extracting: META-INF/com/android/metadata  \n",
            " extracting: META-INF/com/android/metadata.pb  \n",
            " extracting: payload.bin             \n",
            " extracting: payload_properties.txt  \n",
            "  inflating: META-INF/com/android/otacert  \n"
          ]
        }
      ],
      "source": [
        "!unzip 2035e1c69e0b4522a2237b66ed4ff372.zip"
      ]
    },
    {
      "cell_type": "code",
      "execution_count": null,
      "metadata": {
        "colab": {
          "base_uri": "https://localhost:8080/"
        },
        "id": "hVA3j80hIRGV",
        "outputId": "dfba61d2-34dd-41ca-a5ae-61ae7144ea28"
      },
      "outputs": [
        {
          "name": "stdout",
          "output_type": "stream",
          "text": [
            "\u001b[1;1H\n",
            "\u001b[K\u001b[1;1H\u001b[1;1H\n",
            "\u001b[K    boot 100%|| 32/32 [00:01<00:00, 32.54 ops/s]\u001b[1;1H\u001b[1;1Hboot - processed 32 operations\n",
            "\u001b[KPartitions 100%|\u001b[33m\u001b[32m\u001b[m\u001b[33m\u001b[m| 1/1 [00:01<00:00, 1.01 part/s]\u001b[1;1H\u001b[1;1H\u001b[0;1H\u001b[K\u001b[1;0r\u001b[1;1H\u001b[1;0r\u001b[1;1H"
          ]
        }
      ],
      "source": [
        "!payload_dumper payload.bin --partition boot"
      ]
    },
    {
      "cell_type": "code",
      "execution_count": null,
      "metadata": {
        "id": "VTp7LdULIflY"
      },
      "outputs": [],
      "source": [
        "! cp 2035e1c69e0b4522a2237b66ed4ff372.zip \"/content/drive/MyDrive/Oneplus Ace 2V/PHP110_13.1.0.110.zip\""
      ]
    },
    {
      "cell_type": "code",
      "execution_count": null,
      "metadata": {
        "id": "NyB36SarIvBs"
      },
      "outputs": [],
      "source": []
    },
    {
      "cell_type": "code",
      "execution_count": null,
      "metadata": {
        "colab": {
          "base_uri": "https://localhost:8080/",
          "height": 1000
        },
        "id": "5D3fqlAnZS_p",
        "outputId": "194288c6-1fba-433d-9237-d490aff295df"
      },
      "outputs": [
        {
          "name": "stdout",
          "output_type": "stream",
          "text": [
            "https://mneylink.com:443/load_traffic?&r=https://www.google.com/&w=https://ae888.fan/\n"
          ]
        },
        {
          "ename": "JSONDecodeError",
          "evalue": "ignored",
          "output_type": "error",
          "traceback": [
            "\u001b[0;31m---------------------------------------------------------------------------\u001b[0m",
            "\u001b[0;31mJSONDecodeError\u001b[0m                           Traceback (most recent call last)",
            "\u001b[0;32m/usr/local/lib/python3.10/dist-packages/requests/models.py\u001b[0m in \u001b[0;36mjson\u001b[0;34m(self, **kwargs)\u001b[0m\n\u001b[1;32m    909\u001b[0m         \u001b[0;32mtry\u001b[0m\u001b[0;34m:\u001b[0m\u001b[0;34m\u001b[0m\u001b[0;34m\u001b[0m\u001b[0m\n\u001b[0;32m--> 910\u001b[0;31m             \u001b[0;32mreturn\u001b[0m \u001b[0mcomplexjson\u001b[0m\u001b[0;34m.\u001b[0m\u001b[0mloads\u001b[0m\u001b[0;34m(\u001b[0m\u001b[0mself\u001b[0m\u001b[0;34m.\u001b[0m\u001b[0mtext\u001b[0m\u001b[0;34m,\u001b[0m \u001b[0;34m**\u001b[0m\u001b[0mkwargs\u001b[0m\u001b[0;34m)\u001b[0m\u001b[0;34m\u001b[0m\u001b[0;34m\u001b[0m\u001b[0m\n\u001b[0m\u001b[1;32m    911\u001b[0m         \u001b[0;32mexcept\u001b[0m \u001b[0mJSONDecodeError\u001b[0m \u001b[0;32mas\u001b[0m \u001b[0me\u001b[0m\u001b[0;34m:\u001b[0m\u001b[0;34m\u001b[0m\u001b[0;34m\u001b[0m\u001b[0m\n",
            "\u001b[0;32m/usr/lib/python3.10/json/__init__.py\u001b[0m in \u001b[0;36mloads\u001b[0;34m(s, cls, object_hook, parse_float, parse_int, parse_constant, object_pairs_hook, **kw)\u001b[0m\n\u001b[1;32m    345\u001b[0m             parse_constant is None and object_pairs_hook is None and not kw):\n\u001b[0;32m--> 346\u001b[0;31m         \u001b[0;32mreturn\u001b[0m \u001b[0m_default_decoder\u001b[0m\u001b[0;34m.\u001b[0m\u001b[0mdecode\u001b[0m\u001b[0;34m(\u001b[0m\u001b[0ms\u001b[0m\u001b[0;34m)\u001b[0m\u001b[0;34m\u001b[0m\u001b[0;34m\u001b[0m\u001b[0m\n\u001b[0m\u001b[1;32m    347\u001b[0m     \u001b[0;32mif\u001b[0m \u001b[0mcls\u001b[0m \u001b[0;32mis\u001b[0m \u001b[0;32mNone\u001b[0m\u001b[0;34m:\u001b[0m\u001b[0;34m\u001b[0m\u001b[0;34m\u001b[0m\u001b[0m\n",
            "\u001b[0;32m/usr/lib/python3.10/json/decoder.py\u001b[0m in \u001b[0;36mdecode\u001b[0;34m(self, s, _w)\u001b[0m\n\u001b[1;32m    336\u001b[0m         \"\"\"\n\u001b[0;32m--> 337\u001b[0;31m         \u001b[0mobj\u001b[0m\u001b[0;34m,\u001b[0m \u001b[0mend\u001b[0m \u001b[0;34m=\u001b[0m \u001b[0mself\u001b[0m\u001b[0;34m.\u001b[0m\u001b[0mraw_decode\u001b[0m\u001b[0;34m(\u001b[0m\u001b[0ms\u001b[0m\u001b[0;34m,\u001b[0m \u001b[0midx\u001b[0m\u001b[0;34m=\u001b[0m\u001b[0m_w\u001b[0m\u001b[0;34m(\u001b[0m\u001b[0ms\u001b[0m\u001b[0;34m,\u001b[0m \u001b[0;36m0\u001b[0m\u001b[0;34m)\u001b[0m\u001b[0;34m.\u001b[0m\u001b[0mend\u001b[0m\u001b[0;34m(\u001b[0m\u001b[0;34m)\u001b[0m\u001b[0;34m)\u001b[0m\u001b[0;34m\u001b[0m\u001b[0;34m\u001b[0m\u001b[0m\n\u001b[0m\u001b[1;32m    338\u001b[0m         \u001b[0mend\u001b[0m \u001b[0;34m=\u001b[0m \u001b[0m_w\u001b[0m\u001b[0;34m(\u001b[0m\u001b[0ms\u001b[0m\u001b[0;34m,\u001b[0m \u001b[0mend\u001b[0m\u001b[0;34m)\u001b[0m\u001b[0;34m.\u001b[0m\u001b[0mend\u001b[0m\u001b[0;34m(\u001b[0m\u001b[0;34m)\u001b[0m\u001b[0;34m\u001b[0m\u001b[0;34m\u001b[0m\u001b[0m\n",
            "\u001b[0;32m/usr/lib/python3.10/json/decoder.py\u001b[0m in \u001b[0;36mraw_decode\u001b[0;34m(self, s, idx)\u001b[0m\n\u001b[1;32m    354\u001b[0m         \u001b[0;32mexcept\u001b[0m \u001b[0mStopIteration\u001b[0m \u001b[0;32mas\u001b[0m \u001b[0merr\u001b[0m\u001b[0;34m:\u001b[0m\u001b[0;34m\u001b[0m\u001b[0;34m\u001b[0m\u001b[0m\n\u001b[0;32m--> 355\u001b[0;31m             \u001b[0;32mraise\u001b[0m \u001b[0mJSONDecodeError\u001b[0m\u001b[0;34m(\u001b[0m\u001b[0;34m\"Expecting value\"\u001b[0m\u001b[0;34m,\u001b[0m \u001b[0ms\u001b[0m\u001b[0;34m,\u001b[0m \u001b[0merr\u001b[0m\u001b[0;34m.\u001b[0m\u001b[0mvalue\u001b[0m\u001b[0;34m)\u001b[0m \u001b[0;32mfrom\u001b[0m \u001b[0;32mNone\u001b[0m\u001b[0;34m\u001b[0m\u001b[0;34m\u001b[0m\u001b[0m\n\u001b[0m\u001b[1;32m    356\u001b[0m         \u001b[0;32mreturn\u001b[0m \u001b[0mobj\u001b[0m\u001b[0;34m,\u001b[0m \u001b[0mend\u001b[0m\u001b[0;34m\u001b[0m\u001b[0;34m\u001b[0m\u001b[0m\n",
            "\u001b[0;31mJSONDecodeError\u001b[0m: Expecting value: line 1 column 1 (char 0)",
            "\nDuring handling of the above exception, another exception occurred:\n",
            "\u001b[0;31mJSONDecodeError\u001b[0m                           Traceback (most recent call last)",
            "\u001b[0;32m<ipython-input-3-6aeaf7b10da1>\u001b[0m in \u001b[0;36m<cell line: 8>\u001b[0;34m()\u001b[0m\n\u001b[1;32m      6\u001b[0m \u001b[0mprint\u001b[0m\u001b[0;34m(\u001b[0m\u001b[0mburp0_url\u001b[0m\u001b[0;34m)\u001b[0m\u001b[0;34m\u001b[0m\u001b[0;34m\u001b[0m\u001b[0m\n\u001b[1;32m      7\u001b[0m \u001b[0mburp0_headers\u001b[0m \u001b[0;34m=\u001b[0m \u001b[0;34m{\u001b[0m\u001b[0;34m\"GET /load_traffic?&r=https\"\u001b[0m\u001b[0;34m:\u001b[0m \u001b[0;34m\"/www.google.com/&w=\"\u001b[0m \u001b[0;34m+\u001b[0m \u001b[0mdomain\u001b[0m \u001b[0;34m+\u001b[0m \u001b[0;34m\" HTTP/2\"\u001b[0m\u001b[0;34m,\u001b[0m \u001b[0;34m\"Sec-Ch-Ua\"\u001b[0m\u001b[0;34m:\u001b[0m \u001b[0;34m\"\\\"Not A(Brand\\\";v=\\\"24\\\", \\\"Chromium\\\";v=\\\"110\\\"\"\u001b[0m\u001b[0;34m,\u001b[0m \u001b[0;34m\"Sec-Ch-Ua-Mobile\"\u001b[0m\u001b[0;34m:\u001b[0m \u001b[0;34m\"?0\"\u001b[0m\u001b[0;34m,\u001b[0m \u001b[0;34m\"User-Agent\"\u001b[0m\u001b[0;34m:\u001b[0m \u001b[0;34m\"Mozilla/5.0 (Windows NT 10.0; Win64; x64) AppleWebKit/537.36 (KHTML, like Gecko) Chrome/110.0.5481.78 Safari/537.36\"\u001b[0m\u001b[0;34m,\u001b[0m \u001b[0;34m\"Sec-Ch-Ua-Platform\"\u001b[0m\u001b[0;34m:\u001b[0m \u001b[0;34m\"\\\"Windows\\\"\"\u001b[0m\u001b[0;34m,\u001b[0m \u001b[0;34m\"Accept\"\u001b[0m\u001b[0;34m:\u001b[0m \u001b[0;34m\"*/*\"\u001b[0m\u001b[0;34m,\u001b[0m \u001b[0;34m\"Origin\"\u001b[0m\u001b[0;34m:\u001b[0m \u001b[0mdomain\u001b[0m\u001b[0;34m,\u001b[0m \u001b[0;34m\"Sec-Fetch-Site\"\u001b[0m\u001b[0;34m:\u001b[0m \u001b[0;34m\"cross-site\"\u001b[0m\u001b[0;34m,\u001b[0m \u001b[0;34m\"Sec-Fetch-Mode\"\u001b[0m\u001b[0;34m:\u001b[0m \u001b[0;34m\"cors\"\u001b[0m\u001b[0;34m,\u001b[0m \u001b[0;34m\"Sec-Fetch-Dest\"\u001b[0m\u001b[0;34m:\u001b[0m \u001b[0;34m\"empty\"\u001b[0m\u001b[0;34m,\u001b[0m \u001b[0;34m\"Referer\"\u001b[0m\u001b[0;34m:\u001b[0m \u001b[0mdomain\u001b[0m\u001b[0;34m,\u001b[0m \u001b[0;34m\"Accept-Encoding\"\u001b[0m\u001b[0;34m:\u001b[0m \u001b[0;34m\"gzip, deflate\"\u001b[0m\u001b[0;34m,\u001b[0m \u001b[0;34m\"Accept-Language\"\u001b[0m\u001b[0;34m:\u001b[0m \u001b[0;34m\"en-US,en;q=0.9\"\u001b[0m\u001b[0;34m}\u001b[0m\u001b[0;34m\u001b[0m\u001b[0;34m\u001b[0m\u001b[0m\n\u001b[0;32m----> 8\u001b[0;31m \u001b[0mprint\u001b[0m\u001b[0;34m(\u001b[0m\u001b[0mrequests\u001b[0m\u001b[0;34m.\u001b[0m\u001b[0mget\u001b[0m\u001b[0;34m(\u001b[0m\u001b[0mburp0_url\u001b[0m\u001b[0;34m,\u001b[0m \u001b[0mheaders\u001b[0m\u001b[0;34m=\u001b[0m\u001b[0mburp0_headers\u001b[0m\u001b[0;34m)\u001b[0m\u001b[0;34m.\u001b[0m\u001b[0mjson\u001b[0m\u001b[0;34m(\u001b[0m\u001b[0;34m)\u001b[0m\u001b[0;34m)\u001b[0m\u001b[0;34m\u001b[0m\u001b[0;34m\u001b[0m\u001b[0m\n\u001b[0m",
            "\u001b[0;32m/usr/local/lib/python3.10/dist-packages/requests/models.py\u001b[0m in \u001b[0;36mjson\u001b[0;34m(self, **kwargs)\u001b[0m\n\u001b[1;32m    915\u001b[0m                 \u001b[0;32mraise\u001b[0m \u001b[0mRequestsJSONDecodeError\u001b[0m\u001b[0;34m(\u001b[0m\u001b[0me\u001b[0m\u001b[0;34m.\u001b[0m\u001b[0mmessage\u001b[0m\u001b[0;34m)\u001b[0m\u001b[0;34m\u001b[0m\u001b[0;34m\u001b[0m\u001b[0m\n\u001b[1;32m    916\u001b[0m             \u001b[0;32melse\u001b[0m\u001b[0;34m:\u001b[0m\u001b[0;34m\u001b[0m\u001b[0;34m\u001b[0m\u001b[0m\n\u001b[0;32m--> 917\u001b[0;31m                 \u001b[0;32mraise\u001b[0m \u001b[0mRequestsJSONDecodeError\u001b[0m\u001b[0;34m(\u001b[0m\u001b[0me\u001b[0m\u001b[0;34m.\u001b[0m\u001b[0mmsg\u001b[0m\u001b[0;34m,\u001b[0m \u001b[0me\u001b[0m\u001b[0;34m.\u001b[0m\u001b[0mdoc\u001b[0m\u001b[0;34m,\u001b[0m \u001b[0me\u001b[0m\u001b[0;34m.\u001b[0m\u001b[0mpos\u001b[0m\u001b[0;34m)\u001b[0m\u001b[0;34m\u001b[0m\u001b[0;34m\u001b[0m\u001b[0m\n\u001b[0m\u001b[1;32m    918\u001b[0m \u001b[0;34m\u001b[0m\u001b[0m\n\u001b[1;32m    919\u001b[0m     \u001b[0;34m@\u001b[0m\u001b[0mproperty\u001b[0m\u001b[0;34m\u001b[0m\u001b[0;34m\u001b[0m\u001b[0m\n",
            "\u001b[0;31mJSONDecodeError\u001b[0m: [Errno Expecting value] <!DOCTYPE html>\n<html lang=\"en\">\n<head>\n<meta charset=\"utf-8\">\n<meta name=\"viewport\" content=\"width=device-width, initial-scale=1.0\">\n<meta name=\"description\" content=\"403 Forbidden\">\n<meta name=\"author\" content=\"\">\n<title>400 Bad Request</title>\n<!-- Bootstrap core CSS -->\n<link rel=\"stylesheet\" href=\"//maxcdn.bootstrapcdn.com/bootstrap/3.3.4/css/bootstrap.min.css\">\n<link rel=\"stylesheet\" href=\"//maxcdn.bootstrapcdn.com/font-awesome/4.3.0/css/font-awesome.min.css\">\n<style>\n/* Error Page Inline Styles */\nbody {\n  padding-top: 20px;\n}\n/* Layout */\n.jumbotron {\n  font-size: 21px;\n  font-weight: 200;\n  line-height: 2.1428571435;\n  color: inherit;\n  padding: 10px 0px;\n}\n/* Everything but the jumbotron gets side spacing for mobile-first views */\n.masthead, .body-content, {\n  padding-left: 15px;\n  padding-right: 15px;\n}\n/* Main marketing message and sign up button */\n.jumbotron {\n  text-align: center;\n  background-color: transparent;\n}\n.jumbotron .btn {\n  font-size: 21px;\n  padding: 14px 24px;\n}\n/* Colors */\n.green {color:#5cb85c;}\n.orange {color:#f0ad4e;}\n.red {color:#d9534f;}\n</style>\n<script type=\"text/javascript\">\n  function loadDomain() {\n    var display = document.getElementById(\"display-domain\");\n    display.innerHTML = document.domain;\n  }\n</script>\n</head>\n<body onload=\"javascript:loadDomain();\">\n<!-- Error Page Content -->\n<div class=\"container\">\n<div class=\"jumbotron\">\n  <h1><i class=\"fa fa-ban red\"></i> 400 Bad Request</h1>\n  <p class=\"lead\">Lấy làm tiếc! Bạn không có quyền truy cập vào <em><span id=\"display-domain\"></span></em>.</p>\n    <p><a onclick=javascript:checkSite(); class=\"btn btn-default btn-lg green\">Đưa tôi đến trang chủ</a>\n      <script type=\"text/javascript\">\n          function checkSite(){\n            var currentSite = window.location.hostname;\n              window.location = \"http://\" + currentSite;\n          }\n      </script>\n    </p>\n</div>\n</div>\n<div class=\"container\">\n  <div class=\"body-content\">\n    <div class=\"row\">\n      <div class=\"col-md-6\">\n        <h2>Chuyện gì đã xảy ra?</h2>\n        <p class=\"lead\">Lỗi 400 là một mã trạng thái HTTP có nghĩa là yêu cầu bạn đã gửi đến máy chủ trang web, thường là một cái gì đó đơn giản như yêu cầu tải trang web, bằng cách nào đó không chính xác hoặc bị hỏng và máy chủ không thể hiểu được..</p>\n      </div>\n      <div class=\"col-md-6\">\n        <h2>Tôi có thể làm gì?</h2>\n        <p class=\"lead\">Nếu bạn là một vistor trang web</p>\n\t\t<p>Nếu bạn đang tải lên tệp lên trang web khi bạn thấy lỗi, rất có thể lỗi 400 Yêu cầu Xấu là do tệp quá lớn và do đó máy chủ từ chối nó.</p>\n        <p>Kiểm tra lỗi trong URL. Lý do phổ biến nhất cho lỗi 400 Yêu cầu Xấu là vì URL đã nhập sai hoặc liên kết được nhấp vào điểm đến một URL không đúng định dạng với một loại lỗi cụ thể trong đó, như một vấn đề cú pháp.</p>\n        <p class=\"lead\">Nếu bạn là chủ nhân trang web</p>\n         <p>Liên hệ với trang web trực tiếp lưu trữ trang. Có thể là lỗi Yêu cầu 400 Bad thực sự không phải là bất cứ điều gì sai trái ở client của bạn nhưng thay vào đó là một cái gì đó cần sữa chữa, vui lòng liên hệ với chúng tôi.</p>\n     </div>\n    </div>\n  </div>\n</div>\n<!-- End Error Page Content -->\n<!--Scripts-->\n<!-- jQuery library -->\n<script src=\"//ajax.googleapis.com/ajax/libs/jquery/1.11.1/jquery.min.js\"></script>\n<script src=\"//maxcdn.bootstrapcdn.com/bootstrap/3.3.4/js/bootstrap.min.js\"></script>\n</body>\n</html>: 0"
          ]
        }
      ],
      "source": [
        "#@title Mneylink.com Bypass\n",
        "\n",
        "import requests\n",
        "domain = \"https://ae888.fan/\" #@param {type:\"string\"}\n",
        "burp0_url = \"https://mneylink.com:443/load_traffic?&r=https://www.google.com/&w=\" + domain\n",
        "print(burp0_url)\n",
        "burp0_headers = {\"GET /load_traffic?&r=https\": \"/www.google.com/&w=\" + domain + \" HTTP/2\", \"Sec-Ch-Ua\": \"\\\"Not A(Brand\\\";v=\\\"24\\\", \\\"Chromium\\\";v=\\\"110\\\"\", \"Sec-Ch-Ua-Mobile\": \"?0\", \"User-Agent\": \"Mozilla/5.0 (Windows NT 10.0; Win64; x64) AppleWebKit/537.36 (KHTML, like Gecko) Chrome/110.0.5481.78 Safari/537.36\", \"Sec-Ch-Ua-Platform\": \"\\\"Windows\\\"\", \"Accept\": \"*/*\", \"Origin\": domain, \"Sec-Fetch-Site\": \"cross-site\", \"Sec-Fetch-Mode\": \"cors\", \"Sec-Fetch-Dest\": \"empty\", \"Referer\": domain, \"Accept-Encoding\": \"gzip, deflate\", \"Accept-Language\": \"en-US,en;q=0.9\"}\n",
        "print(requests.get(burp0_url, headers=burp0_headers).json())"
      ]
    },
    {
      "cell_type": "code",
      "execution_count": null,
      "metadata": {
        "id": "3kxgiQggqksg"
      },
      "outputs": [],
      "source": [
        "!wget \"https://sourceforge.net/projects/evolution-x/files/kebab/evolution_kebab-ota-tq2a.230505.002-05032145-unsigned.zip/download\" -O a.zip"
      ]
    },
    {
      "cell_type": "code",
      "execution_count": null,
      "metadata": {
        "id": "A-53hUPIkqoO"
      },
      "outputs": [],
      "source": [
        "!unzip a.zip"
      ]
    },
    {
      "cell_type": "code",
      "execution_count": null,
      "metadata": {
        "colab": {
          "base_uri": "https://localhost:8080/"
        },
        "id": "c7Fg2COjYv5J",
        "outputId": "585f9606-98c9-4cfa-e286-fdea530aa9a0"
      },
      "outputs": [
        {
          "name": "stdout",
          "output_type": "stream",
          "text": [
            "make: *** No targets specified and no makefile found.  Stop.\n"
          ]
        }
      ],
      "source": [
        "!cd mydlp && make"
      ]
    }
  ],
  "metadata": {
    "colab": {
      "provenance": [],
      "include_colab_link": true
    },
    "kernelspec": {
      "display_name": "Python 3",
      "name": "python3"
    },
    "language_info": {
      "name": "python"
    }
  },
  "nbformat": 4,
  "nbformat_minor": 0
}